{
 "cells": [
  {
   "cell_type": "code",
   "execution_count": 7,
   "id": "7c28211d",
   "metadata": {},
   "outputs": [],
   "source": [
    "import sys\n",
    "import os\n",
    "import torch\n",
    "from datasets import load_dataset\n",
    "from typing import List\n",
    "from torch.utils.data import IterableDataset\n",
    "\n",
    "sys.path.insert(0, os.path.abspath(os.path.join(os.getcwd(), \"..\")))\n",
    "\n",
    "from preprocessing.transform.dataset_builder import Builder\n",
    "from preprocessing.transform.probabilistic_mixing_dataset import ProbabilisticMixingDataset"
   ]
  },
  {
   "cell_type": "code",
   "execution_count": 8,
   "id": "c1fb5d81",
   "metadata": {},
   "outputs": [],
   "source": [
    "class GiftEvalLoadingDataset(IterableDataset):\n",
    "    def __init__(self, gift_eval_shard: IterableDataset):\n",
    "        super().__init__()\n",
    "        self.ds = gift_eval_shard\n",
    "        \n",
    "\n",
    "    def __iter__(self):\n",
    "        dataset = iter(self.ds)\n",
    "        while True:\n",
    "            try:\n",
    "                example = next(dataset)\n",
    "                \n",
    "                # in the first iteration we do not care about features; only about targets\n",
    "                \n",
    "                for row in example[\"target\"]:\n",
    "                    result = torch.unsqueeze(\n",
    "                        torch.tensor(row, dtype=torch.float32), \n",
    "                        -1\n",
    "                    )\n",
    "                    \n",
    "                    yield torch.nan_to_num(result, nan=0)\n",
    "            except StopIteration:\n",
    "                return\n",
    "            # except Exception as e:\n",
    "            #     print(f\"Skipping example due to error: {e}\")\n",
    "            #     continue"
   ]
  },
  {
   "cell_type": "code",
   "execution_count": 14,
   "id": "20c4de56",
   "metadata": {},
   "outputs": [],
   "source": [
    "class PostProcessingDataset(IterableDataset):\n",
    "    def __init__(self, gift_eval_datasets, window_size=512, prediction_depth=1, seed=42):\n",
    "        super().__init__()\n",
    "\n",
    "        dataset_dict = {\n",
    "            str(i): (\n",
    "                Builder(ds)\n",
    "                .sliding_window(window_size + prediction_depth)\n",
    "                .map(lambda t: (t[:window_size], t[window_size:]))\n",
    "                .build()\n",
    "            )\n",
    "            for i, ds in enumerate(gift_eval_datasets)\n",
    "        }\n",
    "\n",
    "        self.ds = ProbabilisticMixingDataset(dataset_dict, seed=seed)\n",
    "        \n",
    "    def __iter__(self):\n",
    "        for item in iter(self.ds):\n",
    "            yield item"
   ]
  },
  {
   "cell_type": "code",
   "execution_count": 10,
   "id": "ebe6774b-a862-497c-b933-d9d71f17b5db",
   "metadata": {},
   "outputs": [
    {
     "data": {
      "application/vnd.jupyter.widget-view+json": {
       "model_id": "2c2cc092540c4f5c8dec9fc3cf61432e",
       "version_major": 2,
       "version_minor": 0
      },
      "text/plain": [
       "Resolving data files:   0%|          | 0/6528 [00:00<?, ?it/s]"
      ]
     },
     "metadata": {},
     "output_type": "display_data"
    }
   ],
   "source": [
    "gift_eval_ds = load_dataset(\"Salesforce/GiftEvalPretrain\", split=\"train\", streaming=True)"
   ]
  },
  {
   "cell_type": "code",
   "execution_count": 15,
   "id": "eeca3ecd-0d8e-4cdf-82f0-435198efa726",
   "metadata": {},
   "outputs": [],
   "source": [
    "get_shard = lambda index: GiftEvalLoadingDataset(gift_eval_ds.shard(num_shards=6528, index=index))\n",
    "\n",
    "ds = PostProcessingDataset([\n",
    "    get_shard(0),\n",
    "    get_shard(1)\n",
    "])"
   ]
  },
  {
   "cell_type": "code",
   "execution_count": 16,
   "id": "d723b9a0",
   "metadata": {},
   "outputs": [
    {
     "name": "stdout",
     "output_type": "stream",
     "text": [
      "0 (torch.Size([512, 1]), torch.Size([1, 1]))\n"
     ]
    }
   ],
   "source": [
    "for i, item in enumerate(iter(ds)):\n",
    "    if i % 10 == 0:\n",
    "        print(i, (item[0].shape, item[1].shape))\n",
    "        break"
   ]
  },
  {
   "cell_type": "code",
   "execution_count": null,
   "id": "53c60eb4-7453-4595-80b4-6ed3806feff9",
   "metadata": {},
   "outputs": [],
   "source": []
  }
 ],
 "metadata": {
  "kernelspec": {
   "display_name": "Python 3 (ipykernel)",
   "language": "python",
   "name": "python3"
  },
  "language_info": {
   "codemirror_mode": {
    "name": "ipython",
    "version": 3
   },
   "file_extension": ".py",
   "mimetype": "text/x-python",
   "name": "python",
   "nbconvert_exporter": "python",
   "pygments_lexer": "ipython3",
   "version": "3.11.13"
  }
 },
 "nbformat": 4,
 "nbformat_minor": 5
}
