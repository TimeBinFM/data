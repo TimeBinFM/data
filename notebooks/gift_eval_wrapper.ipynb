{
 "cells": [
  {
   "cell_type": "code",
   "execution_count": 1,
   "id": "7c28211d",
   "metadata": {},
   "outputs": [],
   "source": [
    "import sys\n",
    "import os\n",
    "import torch\n",
    "from torch.utils.data import IterableDataset\n",
    "\n",
    "sys.path.insert(0, os.path.abspath(os.path.join(os.getcwd(), \"..\")))\n",
    "\n",
    "from preprocessing.transform.dataset_builder import Builder\n",
    "from preprocessing.transform.probabilistic_mixing_dataset import ProbabilisticMixingDataset\n",
    "from preprocessing.downloader.gift_eval import load_gifteval_dataset_wrapper"
   ]
  },
  {
   "cell_type": "code",
   "execution_count": 2,
   "id": "20c4de56",
   "metadata": {},
   "outputs": [],
   "source": [
    "class PostProcessingDataset(IterableDataset):\n",
    "    def __init__(self, gift_eval_datasets, window_size=512, prediction_depth=1, seed=42):\n",
    "        super().__init__()\n",
    "\n",
    "        dataset_dict = {\n",
    "            str(i): (\n",
    "                Builder(ds)\n",
    "                .sliding_window(window_size + prediction_depth)\n",
    "                .map(lambda t: (t[:window_size], t[window_size:]))\n",
    "                .build()\n",
    "            )\n",
    "            for i, ds in enumerate(gift_eval_datasets)\n",
    "        }\n",
    "\n",
    "        self.ds = ProbabilisticMixingDataset(dataset_dict, seed=seed)\n",
    "        \n",
    "    def __iter__(self):\n",
    "        for item in iter(self.ds):\n",
    "            yield item"
   ]
  },
  {
   "cell_type": "code",
   "execution_count": 3,
   "id": "eeca3ecd-0d8e-4cdf-82f0-435198efa726",
   "metadata": {},
   "outputs": [],
   "source": [
    "ds = PostProcessingDataset([\n",
    "    load_gifteval_dataset_wrapper(['bdg-2_fox']),\n",
    "    load_gifteval_dataset_wrapper(['bdg-2_bear'])\n",
    "])"
   ]
  },
  {
   "cell_type": "code",
   "execution_count": 4,
   "id": "a249a0d2-3b38-452b-8984-8a9b9f6fc8fa",
   "metadata": {},
   "outputs": [],
   "source": [
    "it = iter(ds)"
   ]
  },
  {
   "cell_type": "code",
   "execution_count": 5,
   "id": "d723b9a0",
   "metadata": {},
   "outputs": [
    {
     "name": "stdout",
     "output_type": "stream",
     "text": [
      "0 (torch.Size([512, 1]), torch.Size([1, 1]))\n",
      "1 (torch.Size([512, 1]), torch.Size([1, 1]))\n",
      "2 (torch.Size([512, 1]), torch.Size([1, 1]))\n",
      "3 (torch.Size([512, 1]), torch.Size([1, 1]))\n",
      "4 (torch.Size([512, 1]), torch.Size([1, 1]))\n",
      "5 (torch.Size([512, 1]), torch.Size([1, 1]))\n",
      "6 (torch.Size([512, 1]), torch.Size([1, 1]))\n",
      "7 (torch.Size([512, 1]), torch.Size([1, 1]))\n",
      "8 (torch.Size([512, 1]), torch.Size([1, 1]))\n",
      "9 (torch.Size([512, 1]), torch.Size([1, 1]))\n",
      "10 (torch.Size([512, 1]), torch.Size([1, 1]))\n",
      "11 (torch.Size([512, 1]), torch.Size([1, 1]))\n"
     ]
    }
   ],
   "source": [
    "for i, item in enumerate(iter(ds)):\n",
    "    print(i, (item[0].shape, item[1].shape))\n",
    "\n",
    "    if i > 10:\n",
    "        break"
   ]
  },
  {
   "cell_type": "code",
   "execution_count": null,
   "id": "6be74901-78d2-4771-acdc-fbf576665a25",
   "metadata": {},
   "outputs": [],
   "source": []
  }
 ],
 "metadata": {
  "kernelspec": {
   "display_name": "Python 3 (ipykernel)",
   "language": "python",
   "name": "python3"
  },
  "language_info": {
   "codemirror_mode": {
    "name": "ipython",
    "version": 3
   },
   "file_extension": ".py",
   "mimetype": "text/x-python",
   "name": "python",
   "nbconvert_exporter": "python",
   "pygments_lexer": "ipython3",
   "version": "3.11.13"
  }
 },
 "nbformat": 4,
 "nbformat_minor": 5
}
